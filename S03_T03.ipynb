{
 "cells": [
  {
   "cell_type": "markdown",
   "id": "e317ca2a",
   "metadata": {},
   "source": [
    "# S03 T03"
   ]
  },
  {
   "cell_type": "markdown",
   "id": "c9b8b920",
   "metadata": {},
   "source": [
    "## Level 1"
   ]
  },
  {
   "cell_type": "markdown",
   "id": "c3e9083c",
   "metadata": {},
   "source": [
    "### - Exercise 1\n",
    "\n",
    "L'exercici consisteix a crear un programa que et classifiqui una variable numèrica en funció de l’escala Suspès/Aprovat/Notable/Excel·lent.\n",
    "\n"
   ]
  },
  {
   "cell_type": "code",
   "execution_count": 4,
   "id": "42df1037",
   "metadata": {},
   "outputs": [
    {
     "name": "stdout",
     "output_type": "stream",
     "text": [
      "8\n",
      "Your final grade for this class is Good\n"
     ]
    }
   ],
   "source": [
    "grade = float(input())\n",
    "\n",
    "if grade >=9 and grade <=10:\n",
    "    print (\"Your final grade for this class is Excellent\")\n",
    "elif grade >=7 and  grade <9:\n",
    "    print (\"Your final grade for this class is Good\")\n",
    "elif grade >=5 and  grade <7:\n",
    "    print (\"Your final grade for this class is Pass\")\n",
    "elif grade >=0 and grade <5:\n",
    "    print (\"Your final grade for this class is Fail\")\n",
    "else:\n",
    "    print ( \"Invalid number. Enter a number between 0 and 10\")"
   ]
  },
  {
   "cell_type": "markdown",
   "id": "ac9ac25b",
   "metadata": {},
   "source": [
    "### - Exercise 2\n",
    "\n",
    "Utilitzant el següent tutorial Programiz: Python Input, Output and Import crea un programa que et pregunti dos números. T’ha de mostrar un missatge dient si el primer és més gran, el segon és més gran o són iguals."
   ]
  },
  {
   "cell_type": "code",
   "execution_count": 14,
   "id": "a6d82a9a",
   "metadata": {},
   "outputs": [
    {
     "name": "stdout",
     "output_type": "stream",
     "text": [
      "Eter a number: 456\n",
      "Enter another number: 67\n",
      "Result: 456 is greater than 67\n"
     ]
    }
   ],
   "source": [
    "number1 = int(input(\"Eter a number: \"))\n",
    "number2 = int(input(\"Enter another number: \"))\n",
    "if number1 < number2:\n",
    "    print(\"Result: {} is less than {}\".format (number1, number2))\n",
    "if number1 > number2:\n",
    "    print(\"Result: {} is greater than {}\".format (number1, number2))\n",
    "if number1 == number2:\n",
    "    print(\"Result: {} is equal to {}\".format (number1, number2))"
   ]
  },
  {
   "cell_type": "markdown",
   "id": "a13aabc8",
   "metadata": {},
   "source": [
    "### - Exercise 3\n",
    "\n",
    "Crea un programa que et pregunti el teu nom, i et demani un número. Si el número és 0, hauria de mostrar un missatge d’error. En cas contrari, hauria de mostrar el nom repetit tants cops com indiqui el número. Per exemple, “Joan Joan Joan”."
   ]
  },
  {
   "cell_type": "code",
   "execution_count": 27,
   "id": "04475ba3",
   "metadata": {},
   "outputs": [
    {
     "name": "stdout",
     "output_type": "stream",
     "text": [
      "Eter your first name: Ana\n",
      "Enter a number: 21\n",
      "Ana Ana Ana Ana Ana Ana Ana Ana Ana Ana Ana Ana Ana Ana Ana Ana Ana Ana Ana Ana Ana \n"
     ]
    }
   ],
   "source": [
    "name = input(\"Eter your first name: \")\n",
    "number = int(input(\"Enter a number: \"))\n",
    "if number1 == 0:\n",
    "    print(\"ERROR\")\n",
    "else:\n",
    "    x = \" \"\n",
    "    print((name + x) *number)"
   ]
  },
  {
   "cell_type": "markdown",
   "id": "11fab538",
   "metadata": {},
   "source": [
    "### - Exercise 4\n",
    "\n",
    "Crea un programa que donada una llista qualsevol, et digui si es simètrica o no. Si ho és, que et digui quants elements té."
   ]
  },
  {
   "cell_type": "code",
   "execution_count": 57,
   "id": "ca995edc",
   "metadata": {
    "scrolled": true
   },
   "outputs": [
    {
     "name": "stdout",
     "output_type": "stream",
     "text": [
      "[19, 16, 4, 3, 29]\n",
      "This list is not symetric. It has 5 elements.\n"
     ]
    }
   ],
   "source": [
    "import random\n",
    "lista = []\n",
    "for i in range(0,5):\n",
    "    n = random.randint(1,30)\n",
    "    lista.append(n)\n",
    "print(lista)\n",
    "\n",
    "reversed_lista = lista[::-1]\n",
    "x = len(lista)\n",
    "\n",
    "if lista == reversed_lista:\n",
    "    print(\"This list is symetric.\")\n",
    "else:\n",
    "    print (\"This list is not symetric. It has\", x, \"elements.\")\n",
    "    "
   ]
  },
  {
   "cell_type": "markdown",
   "id": "bef08ffd",
   "metadata": {},
   "source": [
    "### - Exercise 5\n",
    "\n",
    "Crea un programa que donada una llista, et digui quants números coincideixen amb la seva posició. Per exemple [3,4,2,0,2,3,6] el 2 i el 6 coincideixen.\n",
    "\n"
   ]
  },
  {
   "cell_type": "code",
   "execution_count": 58,
   "id": "e6859d81",
   "metadata": {},
   "outputs": [
    {
     "name": "stdout",
     "output_type": "stream",
     "text": [
      "2\n",
      "6\n",
      "There are a total of 2 elements from the list which index and value coincide.\n"
     ]
    }
   ],
   "source": [
    "lista = [3,4,2,0,2,3,6]\n",
    "#Program:\n",
    "counter = 0\n",
    "for i, j in enumerate(lista):\n",
    "    if j == i:\n",
    "        print(i)\n",
    "        counter+=1\n",
    "print (\"There are a total of \" + str(counter) + \" elements from the list which index and value coincide.\")"
   ]
  },
  {
   "cell_type": "code",
   "execution_count": null,
   "id": "cc7c83f1",
   "metadata": {},
   "outputs": [],
   "source": []
  }
 ],
 "metadata": {
  "kernelspec": {
   "display_name": "Python 3",
   "language": "python",
   "name": "python3"
  }
 },
 "nbformat": 4,
 "nbformat_minor": 5
}
